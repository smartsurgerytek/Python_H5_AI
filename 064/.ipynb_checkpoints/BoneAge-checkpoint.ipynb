{
 "cells": [
  {
   "cell_type": "markdown",
   "metadata": {},
   "source": [
    "# Model testing"
   ]
  },
  {
   "cell_type": "code",
   "execution_count": 1,
   "metadata": {},
   "outputs": [],
   "source": [
    "# Test a particular model on a test image\n",
    "# ! wget https://cdn.pixabay.com/photo/2018/10/01/12/28/skunk-3716043_1280.jpg -O skunk.jpg\n",
    "import json\n",
    "import torch, torchvision\n",
    "from torchvision import datasets, models, transforms\n",
    "import torch.nn as nn\n",
    "import torch.optim as optim\n",
    "from torch.utils.data import DataLoader\n",
    "import time\n",
    "# from torchsummary import summary\n",
    "\n",
    "import numpy as np\n",
    "import matplotlib.pyplot as plt\n",
    "import os\n",
    "\n",
    "from PIL import Image\n",
    "from PIL import ImageFile\n",
    "ImageFile.LOAD_TRUNCATED_IMAGES = True"
   ]
  },
  {
   "cell_type": "code",
   "execution_count": 2,
   "metadata": {},
   "outputs": [],
   "source": [
    "# ip install "
   ]
  },
  {
   "cell_type": "code",
   "execution_count": 3,
   "metadata": {},
   "outputs": [],
   "source": [
    "image_transforms = { \n",
    "    'train': transforms.Compose([\n",
    "        transforms.Resize(size=256),\n",
    "        transforms.RandomResizedCrop(size=256, scale=(0.8, 1.0)),\n",
    "        transforms.RandomRotation(degrees=15),\n",
    "        transforms.RandomHorizontalFlip(),\n",
    "        transforms.CenterCrop(size=224),\n",
    "        transforms.ToTensor(),\n",
    "        transforms.Normalize([0.485, 0.456, 0.406],\n",
    "                             [0.229, 0.224, 0.225])\n",
    "    ]),\n",
    "    'valid': transforms.Compose([\n",
    "        transforms.Resize(size=256),\n",
    "        transforms.CenterCrop(size=224),\n",
    "        transforms.ToTensor(),\n",
    "        transforms.Normalize([0.485, 0.456, 0.406],\n",
    "                             [0.229, 0.224, 0.225])\n",
    "    ]),\n",
    "    'test': transforms.Compose([\n",
    "        transforms.Resize(size=256),\n",
    "        transforms.CenterCrop(size=224),\n",
    "        transforms.ToTensor(),\n",
    "        transforms.Normalize([0.485, 0.456, 0.406],\n",
    "                             [0.229, 0.224, 0.225])\n",
    "    ])\n",
    "}"
   ]
  },
  {
   "cell_type": "code",
   "execution_count": 4,
   "metadata": {
    "id": "FGHpMyvHOLTS"
   },
   "outputs": [],
   "source": [
    " def computeTestSetAccuracy(model, loss_criterion):\n",
    "    '''\n",
    "    Function to compute the accuracy on the test set\n",
    "    Parameters\n",
    "        :param model: Model to test\n",
    "        :param loss_criterion: Loss Criterion to minimize\n",
    "    '''\n",
    "\n",
    "    device = torch.device(\"cuda:0\" if torch.cuda.is_available() else \"cpu\")\n",
    "\n",
    "    test_acc = 0.0\n",
    "    test_loss = 0.0\n",
    "\n",
    "    # Validation - No gradient tracking needed\n",
    "    with torch.no_grad():\n",
    "\n",
    "        # Set to evaluation mode\n",
    "        model.eval()\n",
    "\n",
    "        # Validation loop\n",
    "        for j, (inputs, labels) in enumerate(test_data_loader):\n",
    "            inputs = inputs.to(device)\n",
    "            labels = labels.to(device)\n",
    "\n",
    "            # Forward pass - compute outputs on input data using the model\n",
    "            outputs = model(inputs)\n",
    "\n",
    "            # Compute loss\n",
    "            loss = loss_criterion(outputs, labels)\n",
    "\n",
    "            # Compute the total loss for the batch and add it to valid_loss\n",
    "            test_loss += loss.item() * inputs.size(0)\n",
    "\n",
    "            # Calculate validation accuracy\n",
    "            ret, predictions = torch.max(outputs.data, 1)\n",
    "            correct_counts = predictions.eq(labels.data.view_as(predictions))\n",
    "\n",
    "            # Convert correct_counts to float and then compute the mean\n",
    "            acc = torch.mean(correct_counts.type(torch.FloatTensor))\n",
    "\n",
    "            # Compute total accuracy in the whole batch and add to valid_acc\n",
    "            test_acc += acc.item() * inputs.size(0)\n",
    "\n",
    "            print(\"Test Batch number: {:03d}, Test: Loss: {:.4f}, Accuracy: {:.4f}\".format(j, loss.item(), acc.item()))\n",
    "\n",
    "    # Find average test loss and test accuracy\n",
    "    avg_test_loss = test_loss/test_data_size \n",
    "    avg_test_acc = test_acc/test_data_size\n",
    "\n",
    "    print(\"Test accuracy : \" + str(avg_test_acc))\n"
   ]
  },
  {
   "cell_type": "code",
   "execution_count": 5,
   "metadata": {
    "id": "QBHeFS7QOLTT"
   },
   "outputs": [],
   "source": [
    "def predict(model, test_image_name):\n",
    "    '''\n",
    "    Function to predict the class of a single test image\n",
    "    Parameters\n",
    "        :param model: Model to test\n",
    "        :param test_image_name: Test image\n",
    "\n",
    "    '''\n",
    "    \n",
    "    transform = image_transforms['test']\n",
    "\n",
    "\n",
    "    test_image = Image.open(test_image_name)\n",
    "    plt.imshow(test_image)\n",
    "    \n",
    "    test_image_tensor = transform(test_image)\n",
    "    if torch.cuda.is_available():\n",
    "        test_image_tensor = test_image_tensor.view(1, 3, 224, 224).cuda()\n",
    "    else:\n",
    "        test_image_tensor = test_image_tensor.view(1, 3, 224, 224)\n",
    "    \n",
    "    with torch.no_grad():\n",
    "        model.eval()\n",
    "        # Model outputs log probabilities\n",
    "        out = model(test_image_tensor)\n",
    "        ps = torch.exp(out)\n",
    "        print(idx_to_class)\n",
    "        topk, topclass = ps.topk(3, dim=1)\n",
    "        print(topclass)\n",
    "        print(topk)\n",
    "        # topk, topclass = ps.topk(3, dim=1)\n",
    "        cls = idx_to_class[topclass.cpu().numpy()[0][0]]\n",
    "        score = topk.cpu().numpy()[0][0]\n",
    "\n",
    "        for i in range(3):\n",
    "            print(\"Predcition\", i+1, \":\", idx_to_class[topclass.cpu().numpy()[0][i]], \", Score: \", topk.cpu().numpy()[0][i])\n",
    "            print(idx_to_class[topclass.cpu().numpy()[0][i]])\n",
    "            #這裡的輸出值，會有F110=F女性  M=男性 110  表示11歲0個月  115 表示11歲6個月 0.5*12=6個月\n",
    "            # F095=女性9歲6個月\n",
    "\n"
   ]
  },
  {
   "cell_type": "code",
   "execution_count": null,
   "metadata": {},
   "outputs": [],
   "source": []
  },
  {
   "cell_type": "code",
   "execution_count": 6,
   "metadata": {
    "colab": {
     "base_uri": "https://localhost:8080/",
     "height": 507
    },
    "id": "vK8eHndnOLTU",
    "outputId": "581a2e73-b90f-446e-fc73-d4820adc4b68"
   },
   "outputs": [
    {
     "name": "stdout",
     "output_type": "stream",
     "text": [
      "{0: '女性6歲前', 1: '女性7歲0月', 2: '女性7歲6月', 3: '女性8歲6月', 4: '女性9歲0月', 5: '女性9歲6月', 6: '女性10歲0月', 7: '女性10歲6月', 8: '女性11歲0月', 9: '女性11歲6月', 10: '女性12歲0月', 11: '女性12歲6月', 12: '女性13歲0月', 13: '女性13歲6月', 14: '女性14歲0月', 15: '女性16歲'}\n",
      "tensor([[[[ 5,  2,  2,  ...,  0,  0,  0],\n",
      "          [ 5,  2,  2,  ...,  0,  0,  0],\n",
      "          [ 5,  2,  2,  ...,  0,  0,  2],\n",
      "          ...,\n",
      "          [ 0,  0,  0,  ...,  0,  0,  0],\n",
      "          [ 0,  0,  0,  ...,  0,  0,  0],\n",
      "          [ 0,  0,  0,  ...,  0,  0,  0]],\n",
      "\n",
      "         [[ 2,  5,  5,  ...,  2,  2,  2],\n",
      "          [ 2,  5,  5,  ...,  2,  2,  2],\n",
      "          [ 2,  5,  5,  ...,  2,  2,  0],\n",
      "          ...,\n",
      "          [ 2,  2,  2,  ...,  2,  2,  2],\n",
      "          [ 2,  2,  2,  ...,  2,  2,  2],\n",
      "          [ 2,  2,  2,  ...,  2,  2,  2]],\n",
      "\n",
      "         [[11,  3,  3,  ...,  5,  5,  5],\n",
      "          [ 3,  3,  3,  ...,  5,  5,  5],\n",
      "          [ 3,  3,  3,  ...,  5,  5,  5],\n",
      "          ...,\n",
      "          [ 8,  5,  5,  ..., 11, 11, 11],\n",
      "          [ 5,  5,  5,  ..., 11, 11,  4],\n",
      "          [ 5,  5,  5,  ..., 11,  4,  4]]]], device='cuda:0')\n",
      "tensor([[[[1.6119, 1.6370, 2.0721,  ..., 2.4074, 2.2229, 1.9663],\n",
      "          [1.7407, 1.6649, 2.0714,  ..., 2.0828, 1.8588, 1.6101],\n",
      "          [1.7846, 1.6645, 2.0568,  ..., 1.6522, 1.4851, 1.6135],\n",
      "          ...,\n",
      "          [2.7180, 2.7181, 2.7182,  ..., 2.6974, 2.6952, 2.6886],\n",
      "          [2.7175, 2.7179, 2.7181,  ..., 2.6998, 2.6930, 2.6800],\n",
      "          [2.7162, 2.7173, 2.7178,  ..., 2.7004, 2.6890, 2.6673]],\n",
      "\n",
      "         [[1.2665, 1.4183, 1.1988,  ..., 1.0723, 1.1417, 1.2638],\n",
      "          [1.3162, 1.4499, 1.2113,  ..., 1.1458, 1.2638, 1.4421],\n",
      "          [1.3332, 1.4648, 1.2225,  ..., 1.2429, 1.4049, 1.3237],\n",
      "          ...,\n",
      "          [1.0001, 1.0000, 1.0000,  ..., 1.0036, 1.0054, 1.0082],\n",
      "          [1.0001, 1.0001, 1.0000,  ..., 1.0040, 1.0068, 1.0114],\n",
      "          [1.0003, 1.0002, 1.0001,  ..., 1.0046, 1.0085, 1.0158]],\n",
      "\n",
      "         [[1.1629, 1.0621, 1.0551,  ..., 1.0235, 1.0306, 1.0371],\n",
      "          [1.0713, 1.0758, 1.0615,  ..., 1.0601, 1.0704, 1.0748],\n",
      "          [1.0932, 1.0895, 1.0681,  ..., 1.1280, 1.1346, 1.1266],\n",
      "          ...,\n",
      "          [1.0000, 1.0000, 1.0000,  ..., 1.0031, 1.0018, 1.0011],\n",
      "          [1.0000, 1.0000, 1.0000,  ..., 1.0018, 1.0011, 1.0009],\n",
      "          [1.0001, 1.0001, 1.0000,  ..., 1.0010, 1.0007, 1.0010]]]],\n",
      "       device='cuda:0')\n"
     ]
    },
    {
     "ename": "TypeError",
     "evalue": "unhashable type: 'numpy.ndarray'",
     "output_type": "error",
     "traceback": [
      "\u001b[1;31m---------------------------------------------------------------------------\u001b[0m",
      "\u001b[1;31mTypeError\u001b[0m                                 Traceback (most recent call last)",
      "\u001b[1;32m<ipython-input-6-0914ba7dd8ea>\u001b[0m in \u001b[0;36m<module>\u001b[1;34m\u001b[0m\n\u001b[0;32m     22\u001b[0m \u001b[0mbest_epoch\u001b[0m\u001b[1;33m=\u001b[0m\u001b[1;34m'DeepLabV3Plus_dpn131_n2301_0.935_model.pth'\u001b[0m\u001b[1;33m\u001b[0m\u001b[0m\n\u001b[0;32m     23\u001b[0m \u001b[0mmodel\u001b[0m \u001b[1;33m=\u001b[0m \u001b[0mtorch\u001b[0m\u001b[1;33m.\u001b[0m\u001b[0mload\u001b[0m\u001b[1;33m(\u001b[0m\u001b[0mbest_epoch\u001b[0m\u001b[1;33m)\u001b[0m\u001b[1;33m\u001b[0m\u001b[0m\n\u001b[1;32m---> 24\u001b[1;33m \u001b[0mpredict\u001b[0m\u001b[1;33m(\u001b[0m\u001b[0mmodel\u001b[0m\u001b[1;33m,\u001b[0m \u001b[1;34m'BoneAge/valid/F095/9y6m-F-1015.JPG'\u001b[0m\u001b[1;33m)\u001b[0m\u001b[1;33m\u001b[0m\u001b[0m\n\u001b[0m\u001b[0;32m     25\u001b[0m \u001b[1;31m# Load Data from folders\u001b[0m\u001b[1;33m\u001b[0m\u001b[1;33m\u001b[0m\u001b[0m\n\u001b[0;32m     26\u001b[0m \u001b[1;31m#computeTestSetAccuracy(model, loss_func)   #\u001b[0m\u001b[1;33m\u001b[0m\u001b[1;33m\u001b[0m\u001b[0m\n",
      "\u001b[1;32m<ipython-input-5-d29a4e7f0159>\u001b[0m in \u001b[0;36mpredict\u001b[1;34m(model, test_image_name)\u001b[0m\n\u001b[0;32m     30\u001b[0m         \u001b[0mprint\u001b[0m\u001b[1;33m(\u001b[0m\u001b[0mtopk\u001b[0m\u001b[1;33m)\u001b[0m\u001b[1;33m\u001b[0m\u001b[0m\n\u001b[0;32m     31\u001b[0m         \u001b[1;31m# topk, topclass = ps.topk(3, dim=1)\u001b[0m\u001b[1;33m\u001b[0m\u001b[1;33m\u001b[0m\u001b[0m\n\u001b[1;32m---> 32\u001b[1;33m         \u001b[0mcls\u001b[0m \u001b[1;33m=\u001b[0m \u001b[0midx_to_class\u001b[0m\u001b[1;33m[\u001b[0m\u001b[0mtopclass\u001b[0m\u001b[1;33m.\u001b[0m\u001b[0mcpu\u001b[0m\u001b[1;33m(\u001b[0m\u001b[1;33m)\u001b[0m\u001b[1;33m.\u001b[0m\u001b[0mnumpy\u001b[0m\u001b[1;33m(\u001b[0m\u001b[1;33m)\u001b[0m\u001b[1;33m[\u001b[0m\u001b[1;36m0\u001b[0m\u001b[1;33m]\u001b[0m\u001b[1;33m[\u001b[0m\u001b[1;36m0\u001b[0m\u001b[1;33m]\u001b[0m\u001b[1;33m]\u001b[0m\u001b[1;33m\u001b[0m\u001b[0m\n\u001b[0m\u001b[0;32m     33\u001b[0m         \u001b[0mscore\u001b[0m \u001b[1;33m=\u001b[0m \u001b[0mtopk\u001b[0m\u001b[1;33m.\u001b[0m\u001b[0mcpu\u001b[0m\u001b[1;33m(\u001b[0m\u001b[1;33m)\u001b[0m\u001b[1;33m.\u001b[0m\u001b[0mnumpy\u001b[0m\u001b[1;33m(\u001b[0m\u001b[1;33m)\u001b[0m\u001b[1;33m[\u001b[0m\u001b[1;36m0\u001b[0m\u001b[1;33m]\u001b[0m\u001b[1;33m[\u001b[0m\u001b[1;36m0\u001b[0m\u001b[1;33m]\u001b[0m\u001b[1;33m\u001b[0m\u001b[0m\n\u001b[0;32m     34\u001b[0m \u001b[1;33m\u001b[0m\u001b[0m\n",
      "\u001b[1;31mTypeError\u001b[0m: unhashable type: 'numpy.ndarray'"
     ]
    },
    {
     "data": {
      "image/png": "[encoded data removed]",
      "text/plain": [
       "<Figure size 432x288 with 1 Axes>"
      ]
     },
     "metadata": {
      "needs_background": "light"
     },
     "output_type": "display_data"
    }
   ],
   "source": [
    "\n",
    "# AI_Data_jsonFile='best_epoch.json'\n",
    "# idx_to_class = {v: k for k, v in data['train'].class_to_idx.items()}\n",
    "# print(idx_to_class)\n",
    "# idx_to_class={0: 'F060', 1: 'F070', 2: 'F075', 3: 'F085', 4: 'F090', 5: 'F095', 6: 'F100', 7: 'F105', 8: 'F110', 9: 'F115', 10: 'F120', 11: 'F125', 12: 'F130', 13: 'F135', 14: 'F140', 15: '女性16歲'}\n",
    "idx_to_class={0: '女性6歲前', 1: '女性7歲0月' , 2: '女性7歲6月', 3: '女性8歲6月', 4: '女性9歲0月', 5: '女性9歲6月', 6: '女性10歲0月', 7: '女性10歲6月', 8: '女性11歲0月', 9: '女性11歲6月', 10: '女性12歲0月', 11: '女性12歲6月', 12: '女性13歲0月', 13: '女性13歲6月', 14: '女性14歲0月', 15: '女性16歲'}\n",
    "\n",
    "# jsonFile = r\"f:\\SurgeryAnalytics\\AI_Cases\\Dentistry\\1_Linknet_efficientnetb7_0_3\\A_Data_preprocessing\\Dentistry_config.json\"  #讀取剛剛資料分析完輸出的JSION檔\n",
    "\n",
    "\n",
    "\n",
    "# jsonFile = AI_Data_jsonFile  #讀取剛剛資料分析完輸出的JSION檔\n",
    "# with open(jsonFile, 'r') as f:\n",
    "#     config = json.load(f)\n",
    "# best_epoch=config[\"best_epoch\"]\n",
    "\n",
    "\n",
    "# best_epoch='3498'\n",
    "# dataset = 'BoneAge'\n",
    "# model = torch.load(\"{}_model_{}.pt\".format(dataset, best_epoch))\n",
    "# model = torch.load(best_epoch)\n",
    "# best_epoch='BoneAge_resnet152_3498_For3500.pt'     #最佳檔案 \n",
    "best_epoch='DeepLabV3Plus_dpn131_n2301_0.935_model.pt'\n",
    "model = torch.load(best_epoch)\n",
    "predict(model, 'BoneAge/valid/F095/9y6m-F-1015.JPG')\n",
    "# Load Data from folders\n",
    "#computeTestSetAccuracy(model, loss_func)   #"
   ]
  },
  {
   "cell_type": "code",
   "execution_count": null,
   "metadata": {},
   "outputs": [],
   "source": [
    "predict(model, 'BoneAge/valid/F160/16y-F-239.png')"
   ]
  },
  {
   "cell_type": "code",
   "execution_count": null,
   "metadata": {},
   "outputs": [],
   "source": [
    "predict(model, 'BoneAge/test/F140/14y-F-124.png')"
   ]
  },
  {
   "cell_type": "code",
   "execution_count": null,
   "metadata": {},
   "outputs": [],
   "source": [
    "predict(model, 'BoneAge/test/F135/13y6m-F-8.png')"
   ]
  }
 ],
 "metadata": {
  "accelerator": "GPU",
  "colab": {
   "collapsed_sections": [],
   "name": "image_classification_using_transfer_learning_in_pytorch.ipynb",
   "provenance": []
  },
  "kernelspec": {
   "display_name": "pytorch366",
   "language": "python",
   "name": "pytorch366"
  },
  "language_info": {
   "codemirror_mode": {
    "name": "ipython",
    "version": 3
   },
   "file_extension": ".py",
   "mimetype": "text/x-python",
   "name": "python",
   "nbconvert_exporter": "python",
   "pygments_lexer": "ipython3",
   "version": "3.6.6"
  }
 },
 "nbformat": 4,
 "nbformat_minor": 4
}
